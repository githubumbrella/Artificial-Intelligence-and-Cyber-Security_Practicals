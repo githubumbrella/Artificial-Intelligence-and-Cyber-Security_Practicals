{
 "cells": [
  {
   "cell_type": "markdown",
   "id": "a6c305d2",
   "metadata": {},
   "source": [
    "### Name: Saloni Vishwakarma \n",
    "### Roll No: C1-13"
   ]
  },
  {
   "cell_type": "markdown",
   "id": "0258b9ba",
   "metadata": {},
   "source": [
    "### Aim: To implement a Machine Learning Regression model using a Simple Linear regression algorithm"
   ]
  },
  {
   "cell_type": "markdown",
   "id": "8283d800",
   "metadata": {},
   "source": [
    "## Import Libraries"
   ]
  },
  {
   "cell_type": "code",
   "execution_count": 1,
   "id": "c1cb83f2",
   "metadata": {},
   "outputs": [],
   "source": [
    "import pandas as pd\n",
    "import pandas as pd\n",
    "from matplotlib import pyplot as plt"
   ]
  },
  {
   "cell_type": "markdown",
   "id": "fe384e76",
   "metadata": {},
   "source": [
    "## Import Dataset"
   ]
  },
  {
   "cell_type": "code",
   "execution_count": 2,
   "id": "c9cdeda8",
   "metadata": {},
   "outputs": [],
   "source": [
    "url  = \"https://raw.githubusercontent.com/devzohaib/Simple-Linear-Regression/master/tvmarketing.csv\"\n",
    "d1 = pd.read_csv(url)"
   ]
  },
  {
   "cell_type": "code",
   "execution_count": 3,
   "id": "53e81d70",
   "metadata": {},
   "outputs": [
    {
     "name": "stdout",
     "output_type": "stream",
     "text": [
      "        TV  Sales\n",
      "0    230.1   22.1\n",
      "1     44.5   10.4\n",
      "2     17.2    9.3\n",
      "3    151.5   18.5\n",
      "4    180.8   12.9\n",
      "..     ...    ...\n",
      "195   38.2    7.6\n",
      "196   94.2    9.7\n",
      "197  177.0   12.8\n",
      "198  283.6   25.5\n",
      "199  232.1   13.4\n",
      "\n",
      "[200 rows x 2 columns]\n"
     ]
    }
   ],
   "source": [
    "print(d1)"
   ]
  },
  {
   "cell_type": "code",
   "execution_count": 4,
   "id": "bb95d960",
   "metadata": {},
   "outputs": [
    {
     "data": {
      "text/html": [
       "<div>\n",
       "<style scoped>\n",
       "    .dataframe tbody tr th:only-of-type {\n",
       "        vertical-align: middle;\n",
       "    }\n",
       "\n",
       "    .dataframe tbody tr th {\n",
       "        vertical-align: top;\n",
       "    }\n",
       "\n",
       "    .dataframe thead th {\n",
       "        text-align: right;\n",
       "    }\n",
       "</style>\n",
       "<table border=\"1\" class=\"dataframe\">\n",
       "  <thead>\n",
       "    <tr style=\"text-align: right;\">\n",
       "      <th></th>\n",
       "      <th>TV</th>\n",
       "      <th>Sales</th>\n",
       "    </tr>\n",
       "  </thead>\n",
       "  <tbody>\n",
       "    <tr>\n",
       "      <th>0</th>\n",
       "      <td>230.1</td>\n",
       "      <td>22.1</td>\n",
       "    </tr>\n",
       "    <tr>\n",
       "      <th>1</th>\n",
       "      <td>44.5</td>\n",
       "      <td>10.4</td>\n",
       "    </tr>\n",
       "    <tr>\n",
       "      <th>2</th>\n",
       "      <td>17.2</td>\n",
       "      <td>9.3</td>\n",
       "    </tr>\n",
       "    <tr>\n",
       "      <th>3</th>\n",
       "      <td>151.5</td>\n",
       "      <td>18.5</td>\n",
       "    </tr>\n",
       "    <tr>\n",
       "      <th>4</th>\n",
       "      <td>180.8</td>\n",
       "      <td>12.9</td>\n",
       "    </tr>\n",
       "    <tr>\n",
       "      <th>5</th>\n",
       "      <td>8.7</td>\n",
       "      <td>7.2</td>\n",
       "    </tr>\n",
       "    <tr>\n",
       "      <th>6</th>\n",
       "      <td>57.5</td>\n",
       "      <td>11.8</td>\n",
       "    </tr>\n",
       "    <tr>\n",
       "      <th>7</th>\n",
       "      <td>120.2</td>\n",
       "      <td>13.2</td>\n",
       "    </tr>\n",
       "    <tr>\n",
       "      <th>8</th>\n",
       "      <td>8.6</td>\n",
       "      <td>4.8</td>\n",
       "    </tr>\n",
       "    <tr>\n",
       "      <th>9</th>\n",
       "      <td>199.8</td>\n",
       "      <td>10.6</td>\n",
       "    </tr>\n",
       "  </tbody>\n",
       "</table>\n",
       "</div>"
      ],
      "text/plain": [
       "      TV  Sales\n",
       "0  230.1   22.1\n",
       "1   44.5   10.4\n",
       "2   17.2    9.3\n",
       "3  151.5   18.5\n",
       "4  180.8   12.9\n",
       "5    8.7    7.2\n",
       "6   57.5   11.8\n",
       "7  120.2   13.2\n",
       "8    8.6    4.8\n",
       "9  199.8   10.6"
      ]
     },
     "execution_count": 4,
     "metadata": {},
     "output_type": "execute_result"
    }
   ],
   "source": [
    "d1.head(10)"
   ]
  },
  {
   "cell_type": "markdown",
   "id": "caa4b11b",
   "metadata": {},
   "source": [
    "## Exploratory Data Analysis(EDA)"
   ]
  },
  {
   "cell_type": "code",
   "execution_count": 5,
   "id": "7d87da32",
   "metadata": {},
   "outputs": [
    {
     "data": {
      "text/html": [
       "<div>\n",
       "<style scoped>\n",
       "    .dataframe tbody tr th:only-of-type {\n",
       "        vertical-align: middle;\n",
       "    }\n",
       "\n",
       "    .dataframe tbody tr th {\n",
       "        vertical-align: top;\n",
       "    }\n",
       "\n",
       "    .dataframe thead th {\n",
       "        text-align: right;\n",
       "    }\n",
       "</style>\n",
       "<table border=\"1\" class=\"dataframe\">\n",
       "  <thead>\n",
       "    <tr style=\"text-align: right;\">\n",
       "      <th></th>\n",
       "      <th>TV</th>\n",
       "      <th>Sales</th>\n",
       "    </tr>\n",
       "  </thead>\n",
       "  <tbody>\n",
       "    <tr>\n",
       "      <th>0</th>\n",
       "      <td>230.1</td>\n",
       "      <td>22.1</td>\n",
       "    </tr>\n",
       "    <tr>\n",
       "      <th>1</th>\n",
       "      <td>44.5</td>\n",
       "      <td>10.4</td>\n",
       "    </tr>\n",
       "    <tr>\n",
       "      <th>2</th>\n",
       "      <td>17.2</td>\n",
       "      <td>9.3</td>\n",
       "    </tr>\n",
       "    <tr>\n",
       "      <th>3</th>\n",
       "      <td>151.5</td>\n",
       "      <td>18.5</td>\n",
       "    </tr>\n",
       "    <tr>\n",
       "      <th>4</th>\n",
       "      <td>180.8</td>\n",
       "      <td>12.9</td>\n",
       "    </tr>\n",
       "  </tbody>\n",
       "</table>\n",
       "</div>"
      ],
      "text/plain": [
       "      TV  Sales\n",
       "0  230.1   22.1\n",
       "1   44.5   10.4\n",
       "2   17.2    9.3\n",
       "3  151.5   18.5\n",
       "4  180.8   12.9"
      ]
     },
     "execution_count": 5,
     "metadata": {},
     "output_type": "execute_result"
    }
   ],
   "source": [
    "d1.head()"
   ]
  },
  {
   "cell_type": "code",
   "execution_count": 6,
   "id": "dd02ba23",
   "metadata": {},
   "outputs": [
    {
     "data": {
      "text/html": [
       "<div>\n",
       "<style scoped>\n",
       "    .dataframe tbody tr th:only-of-type {\n",
       "        vertical-align: middle;\n",
       "    }\n",
       "\n",
       "    .dataframe tbody tr th {\n",
       "        vertical-align: top;\n",
       "    }\n",
       "\n",
       "    .dataframe thead th {\n",
       "        text-align: right;\n",
       "    }\n",
       "</style>\n",
       "<table border=\"1\" class=\"dataframe\">\n",
       "  <thead>\n",
       "    <tr style=\"text-align: right;\">\n",
       "      <th></th>\n",
       "      <th>TV</th>\n",
       "      <th>Sales</th>\n",
       "    </tr>\n",
       "  </thead>\n",
       "  <tbody>\n",
       "    <tr>\n",
       "      <th>195</th>\n",
       "      <td>38.2</td>\n",
       "      <td>7.6</td>\n",
       "    </tr>\n",
       "    <tr>\n",
       "      <th>196</th>\n",
       "      <td>94.2</td>\n",
       "      <td>9.7</td>\n",
       "    </tr>\n",
       "    <tr>\n",
       "      <th>197</th>\n",
       "      <td>177.0</td>\n",
       "      <td>12.8</td>\n",
       "    </tr>\n",
       "    <tr>\n",
       "      <th>198</th>\n",
       "      <td>283.6</td>\n",
       "      <td>25.5</td>\n",
       "    </tr>\n",
       "    <tr>\n",
       "      <th>199</th>\n",
       "      <td>232.1</td>\n",
       "      <td>13.4</td>\n",
       "    </tr>\n",
       "  </tbody>\n",
       "</table>\n",
       "</div>"
      ],
      "text/plain": [
       "        TV  Sales\n",
       "195   38.2    7.6\n",
       "196   94.2    9.7\n",
       "197  177.0   12.8\n",
       "198  283.6   25.5\n",
       "199  232.1   13.4"
      ]
     },
     "execution_count": 6,
     "metadata": {},
     "output_type": "execute_result"
    }
   ],
   "source": [
    "d1.tail()"
   ]
  },
  {
   "cell_type": "code",
   "execution_count": 7,
   "id": "eec18c0a",
   "metadata": {},
   "outputs": [
    {
     "data": {
      "text/html": [
       "<div>\n",
       "<style scoped>\n",
       "    .dataframe tbody tr th:only-of-type {\n",
       "        vertical-align: middle;\n",
       "    }\n",
       "\n",
       "    .dataframe tbody tr th {\n",
       "        vertical-align: top;\n",
       "    }\n",
       "\n",
       "    .dataframe thead th {\n",
       "        text-align: right;\n",
       "    }\n",
       "</style>\n",
       "<table border=\"1\" class=\"dataframe\">\n",
       "  <thead>\n",
       "    <tr style=\"text-align: right;\">\n",
       "      <th></th>\n",
       "      <th>TV</th>\n",
       "      <th>Sales</th>\n",
       "    </tr>\n",
       "  </thead>\n",
       "  <tbody>\n",
       "    <tr>\n",
       "      <th>count</th>\n",
       "      <td>200.000000</td>\n",
       "      <td>200.000000</td>\n",
       "    </tr>\n",
       "    <tr>\n",
       "      <th>mean</th>\n",
       "      <td>147.042500</td>\n",
       "      <td>14.022500</td>\n",
       "    </tr>\n",
       "    <tr>\n",
       "      <th>std</th>\n",
       "      <td>85.854236</td>\n",
       "      <td>5.217457</td>\n",
       "    </tr>\n",
       "    <tr>\n",
       "      <th>min</th>\n",
       "      <td>0.700000</td>\n",
       "      <td>1.600000</td>\n",
       "    </tr>\n",
       "    <tr>\n",
       "      <th>25%</th>\n",
       "      <td>74.375000</td>\n",
       "      <td>10.375000</td>\n",
       "    </tr>\n",
       "    <tr>\n",
       "      <th>50%</th>\n",
       "      <td>149.750000</td>\n",
       "      <td>12.900000</td>\n",
       "    </tr>\n",
       "    <tr>\n",
       "      <th>75%</th>\n",
       "      <td>218.825000</td>\n",
       "      <td>17.400000</td>\n",
       "    </tr>\n",
       "    <tr>\n",
       "      <th>max</th>\n",
       "      <td>296.400000</td>\n",
       "      <td>27.000000</td>\n",
       "    </tr>\n",
       "  </tbody>\n",
       "</table>\n",
       "</div>"
      ],
      "text/plain": [
       "               TV       Sales\n",
       "count  200.000000  200.000000\n",
       "mean   147.042500   14.022500\n",
       "std     85.854236    5.217457\n",
       "min      0.700000    1.600000\n",
       "25%     74.375000   10.375000\n",
       "50%    149.750000   12.900000\n",
       "75%    218.825000   17.400000\n",
       "max    296.400000   27.000000"
      ]
     },
     "execution_count": 7,
     "metadata": {},
     "output_type": "execute_result"
    }
   ],
   "source": [
    "d1.describe()"
   ]
  },
  {
   "cell_type": "code",
   "execution_count": 8,
   "id": "610444c5",
   "metadata": {},
   "outputs": [
    {
     "name": "stdout",
     "output_type": "stream",
     "text": [
      "<class 'pandas.core.frame.DataFrame'>\n",
      "RangeIndex: 200 entries, 0 to 199\n",
      "Data columns (total 2 columns):\n",
      " #   Column  Non-Null Count  Dtype  \n",
      "---  ------  --------------  -----  \n",
      " 0   TV      200 non-null    float64\n",
      " 1   Sales   200 non-null    float64\n",
      "dtypes: float64(2)\n",
      "memory usage: 3.3 KB\n"
     ]
    }
   ],
   "source": [
    "d1.info()"
   ]
  },
  {
   "cell_type": "code",
   "execution_count": 9,
   "id": "8c4e525d",
   "metadata": {},
   "outputs": [
    {
     "name": "stdout",
     "output_type": "stream",
     "text": [
      "(200, 2)\n"
     ]
    }
   ],
   "source": [
    "print(d1.shape)"
   ]
  },
  {
   "cell_type": "code",
   "execution_count": 10,
   "id": "1076810a",
   "metadata": {},
   "outputs": [
    {
     "data": {
      "text/html": [
       "<div>\n",
       "<style scoped>\n",
       "    .dataframe tbody tr th:only-of-type {\n",
       "        vertical-align: middle;\n",
       "    }\n",
       "\n",
       "    .dataframe tbody tr th {\n",
       "        vertical-align: top;\n",
       "    }\n",
       "\n",
       "    .dataframe thead th {\n",
       "        text-align: right;\n",
       "    }\n",
       "</style>\n",
       "<table border=\"1\" class=\"dataframe\">\n",
       "  <thead>\n",
       "    <tr style=\"text-align: right;\">\n",
       "      <th></th>\n",
       "      <th>TV</th>\n",
       "      <th>Sales</th>\n",
       "    </tr>\n",
       "  </thead>\n",
       "  <tbody>\n",
       "    <tr>\n",
       "      <th>TV</th>\n",
       "      <td>1.000000</td>\n",
       "      <td>0.782224</td>\n",
       "    </tr>\n",
       "    <tr>\n",
       "      <th>Sales</th>\n",
       "      <td>0.782224</td>\n",
       "      <td>1.000000</td>\n",
       "    </tr>\n",
       "  </tbody>\n",
       "</table>\n",
       "</div>"
      ],
      "text/plain": [
       "             TV     Sales\n",
       "TV     1.000000  0.782224\n",
       "Sales  0.782224  1.000000"
      ]
     },
     "execution_count": 10,
     "metadata": {},
     "output_type": "execute_result"
    }
   ],
   "source": [
    "d1.corr()"
   ]
  },
  {
   "cell_type": "code",
   "execution_count": 11,
   "id": "dc1a20a3",
   "metadata": {},
   "outputs": [
    {
     "data": {
      "image/png": "[encoded data removed]",
      "text/plain": [
       "<Figure size 640x480 with 1 Axes>"
      ]
     },
     "metadata": {},
     "output_type": "display_data"
    }
   ],
   "source": [
    "from matplotlib import pyplot as plt\n",
    "plt.scatter(d1['TV'],d1[\"Sales\"])\n",
    "plt.title('TV vs Sales ')\n",
    "plt.xlabel(\"TV\")\n",
    "plt.ylabel('Sales ')\n",
    "plt.show()"
   ]
  },
  {
   "cell_type": "markdown",
   "id": "164e8782",
   "metadata": {},
   "source": [
    "## Select attribute as dependent and independent"
   ]
  },
  {
   "cell_type": "code",
   "execution_count": 12,
   "id": "a58fa48d",
   "metadata": {},
   "outputs": [
    {
     "data": {
      "text/html": [
       "<div>\n",
       "<style scoped>\n",
       "    .dataframe tbody tr th:only-of-type {\n",
       "        vertical-align: middle;\n",
       "    }\n",
       "\n",
       "    .dataframe tbody tr th {\n",
       "        vertical-align: top;\n",
       "    }\n",
       "\n",
       "    .dataframe thead th {\n",
       "        text-align: right;\n",
       "    }\n",
       "</style>\n",
       "<table border=\"1\" class=\"dataframe\">\n",
       "  <thead>\n",
       "    <tr style=\"text-align: right;\">\n",
       "      <th></th>\n",
       "      <th>TV</th>\n",
       "      <th>Sales</th>\n",
       "    </tr>\n",
       "  </thead>\n",
       "  <tbody>\n",
       "    <tr>\n",
       "      <th>0</th>\n",
       "      <td>230.1</td>\n",
       "      <td>22.1</td>\n",
       "    </tr>\n",
       "    <tr>\n",
       "      <th>1</th>\n",
       "      <td>44.5</td>\n",
       "      <td>10.4</td>\n",
       "    </tr>\n",
       "    <tr>\n",
       "      <th>2</th>\n",
       "      <td>17.2</td>\n",
       "      <td>9.3</td>\n",
       "    </tr>\n",
       "    <tr>\n",
       "      <th>3</th>\n",
       "      <td>151.5</td>\n",
       "      <td>18.5</td>\n",
       "    </tr>\n",
       "    <tr>\n",
       "      <th>4</th>\n",
       "      <td>180.8</td>\n",
       "      <td>12.9</td>\n",
       "    </tr>\n",
       "  </tbody>\n",
       "</table>\n",
       "</div>"
      ],
      "text/plain": [
       "      TV  Sales\n",
       "0  230.1   22.1\n",
       "1   44.5   10.4\n",
       "2   17.2    9.3\n",
       "3  151.5   18.5\n",
       "4  180.8   12.9"
      ]
     },
     "execution_count": 12,
     "metadata": {},
     "output_type": "execute_result"
    }
   ],
   "source": [
    "d1.head()"
   ]
  },
  {
   "cell_type": "code",
   "execution_count": 13,
   "id": "f416f2d5",
   "metadata": {},
   "outputs": [],
   "source": [
    "x=d1.iloc[:,:1].values\n",
    "y=d1.iloc[:,1].values"
   ]
  },
  {
   "cell_type": "code",
   "execution_count": 14,
   "id": "11d89d42",
   "metadata": {},
   "outputs": [
    {
     "name": "stdout",
     "output_type": "stream",
     "text": [
      "[[230.1]\n",
      " [ 44.5]\n",
      " [ 17.2]\n",
      " [151.5]\n",
      " [180.8]\n",
      " [  8.7]\n",
      " [ 57.5]\n",
      " [120.2]\n",
      " [  8.6]\n",
      " [199.8]\n",
      " [ 66.1]\n",
      " [214.7]\n",
      " [ 23.8]\n",
      " [ 97.5]\n",
      " [204.1]\n",
      " [195.4]\n",
      " [ 67.8]\n",
      " [281.4]\n",
      " [ 69.2]\n",
      " [147.3]\n",
      " [218.4]\n",
      " [237.4]\n",
      " [ 13.2]\n",
      " [228.3]\n",
      " [ 62.3]\n",
      " [262.9]\n",
      " [142.9]\n",
      " [240.1]\n",
      " [248.8]\n",
      " [ 70.6]\n",
      " [292.9]\n",
      " [112.9]\n",
      " [ 97.2]\n",
      " [265.6]\n",
      " [ 95.7]\n",
      " [290.7]\n",
      " [266.9]\n",
      " [ 74.7]\n",
      " [ 43.1]\n",
      " [228. ]\n",
      " [202.5]\n",
      " [177. ]\n",
      " [293.6]\n",
      " [206.9]\n",
      " [ 25.1]\n",
      " [175.1]\n",
      " [ 89.7]\n",
      " [239.9]\n",
      " [227.2]\n",
      " [ 66.9]\n",
      " [199.8]\n",
      " [100.4]\n",
      " [216.4]\n",
      " [182.6]\n",
      " [262.7]\n",
      " [198.9]\n",
      " [  7.3]\n",
      " [136.2]\n",
      " [210.8]\n",
      " [210.7]\n",
      " [ 53.5]\n",
      " [261.3]\n",
      " [239.3]\n",
      " [102.7]\n",
      " [131.1]\n",
      " [ 69. ]\n",
      " [ 31.5]\n",
      " [139.3]\n",
      " [237.4]\n",
      " [216.8]\n",
      " [199.1]\n",
      " [109.8]\n",
      " [ 26.8]\n",
      " [129.4]\n",
      " [213.4]\n",
      " [ 16.9]\n",
      " [ 27.5]\n",
      " [120.5]\n",
      " [  5.4]\n",
      " [116. ]\n",
      " [ 76.4]\n",
      " [239.8]\n",
      " [ 75.3]\n",
      " [ 68.4]\n",
      " [213.5]\n",
      " [193.2]\n",
      " [ 76.3]\n",
      " [110.7]\n",
      " [ 88.3]\n",
      " [109.8]\n",
      " [134.3]\n",
      " [ 28.6]\n",
      " [217.7]\n",
      " [250.9]\n",
      " [107.4]\n",
      " [163.3]\n",
      " [197.6]\n",
      " [184.9]\n",
      " [289.7]\n",
      " [135.2]\n",
      " [222.4]\n",
      " [296.4]\n",
      " [280.2]\n",
      " [187.9]\n",
      " [238.2]\n",
      " [137.9]\n",
      " [ 25. ]\n",
      " [ 90.4]\n",
      " [ 13.1]\n",
      " [255.4]\n",
      " [225.8]\n",
      " [241.7]\n",
      " [175.7]\n",
      " [209.6]\n",
      " [ 78.2]\n",
      " [ 75.1]\n",
      " [139.2]\n",
      " [ 76.4]\n",
      " [125.7]\n",
      " [ 19.4]\n",
      " [141.3]\n",
      " [ 18.8]\n",
      " [224. ]\n",
      " [123.1]\n",
      " [229.5]\n",
      " [ 87.2]\n",
      " [  7.8]\n",
      " [ 80.2]\n",
      " [220.3]\n",
      " [ 59.6]\n",
      " [  0.7]\n",
      " [265.2]\n",
      " [  8.4]\n",
      " [219.8]\n",
      " [ 36.9]\n",
      " [ 48.3]\n",
      " [ 25.6]\n",
      " [273.7]\n",
      " [ 43. ]\n",
      " [184.9]\n",
      " [ 73.4]\n",
      " [193.7]\n",
      " [220.5]\n",
      " [104.6]\n",
      " [ 96.2]\n",
      " [140.3]\n",
      " [240.1]\n",
      " [243.2]\n",
      " [ 38. ]\n",
      " [ 44.7]\n",
      " [280.7]\n",
      " [121. ]\n",
      " [197.6]\n",
      " [171.3]\n",
      " [187.8]\n",
      " [  4.1]\n",
      " [ 93.9]\n",
      " [149.8]\n",
      " [ 11.7]\n",
      " [131.7]\n",
      " [172.5]\n",
      " [ 85.7]\n",
      " [188.4]\n",
      " [163.5]\n",
      " [117.2]\n",
      " [234.5]\n",
      " [ 17.9]\n",
      " [206.8]\n",
      " [215.4]\n",
      " [284.3]\n",
      " [ 50. ]\n",
      " [164.5]\n",
      " [ 19.6]\n",
      " [168.4]\n",
      " [222.4]\n",
      " [276.9]\n",
      " [248.4]\n",
      " [170.2]\n",
      " [276.7]\n",
      " [165.6]\n",
      " [156.6]\n",
      " [218.5]\n",
      " [ 56.2]\n",
      " [287.6]\n",
      " [253.8]\n",
      " [205. ]\n",
      " [139.5]\n",
      " [191.1]\n",
      " [286. ]\n",
      " [ 18.7]\n",
      " [ 39.5]\n",
      " [ 75.5]\n",
      " [ 17.2]\n",
      " [166.8]\n",
      " [149.7]\n",
      " [ 38.2]\n",
      " [ 94.2]\n",
      " [177. ]\n",
      " [283.6]\n",
      " [232.1]]\n"
     ]
    }
   ],
   "source": [
    "print(x)"
   ]
  },
  {
   "cell_type": "code",
   "execution_count": 15,
   "id": "688a7508",
   "metadata": {},
   "outputs": [
    {
     "name": "stdout",
     "output_type": "stream",
     "text": [
      "[22.1 10.4  9.3 18.5 12.9  7.2 11.8 13.2  4.8 10.6  8.6 17.4  9.2  9.7\n",
      " 19.  22.4 12.5 24.4 11.3 14.6 18.  12.5  5.6 15.5  9.7 12.  15.  15.9\n",
      " 18.9 10.5 21.4 11.9  9.6 17.4  9.5 12.8 25.4 14.7 10.1 21.5 16.6 17.1\n",
      " 20.7 12.9  8.5 14.9 10.6 23.2 14.8  9.7 11.4 10.7 22.6 21.2 20.2 23.7\n",
      "  5.5 13.2 23.8 18.4  8.1 24.2 15.7 14.  18.   9.3  9.5 13.4 18.9 22.3\n",
      " 18.3 12.4  8.8 11.  17.   8.7  6.9 14.2  5.3 11.  11.8 12.3 11.3 13.6\n",
      " 21.7 15.2 12.  16.  12.9 16.7 11.2  7.3 19.4 22.2 11.5 16.9 11.7 15.5\n",
      " 25.4 17.2 11.7 23.8 14.8 14.7 20.7 19.2  7.2  8.7  5.3 19.8 13.4 21.8\n",
      " 14.1 15.9 14.6 12.6 12.2  9.4 15.9  6.6 15.5  7.  11.6 15.2 19.7 10.6\n",
      "  6.6  8.8 24.7  9.7  1.6 12.7  5.7 19.6 10.8 11.6  9.5 20.8  9.6 20.7\n",
      " 10.9 19.2 20.1 10.4 11.4 10.3 13.2 25.4 10.9 10.1 16.1 11.6 16.6 19.\n",
      " 15.6  3.2 15.3 10.1  7.3 12.9 14.4 13.3 14.9 18.  11.9 11.9  8.  12.2\n",
      " 17.1 15.   8.4 14.5  7.6 11.7 11.5 27.  20.2 11.7 11.8 12.6 10.5 12.2\n",
      "  8.7 26.2 17.6 22.6 10.3 17.3 15.9  6.7 10.8  9.9  5.9 19.6 17.3  7.6\n",
      "  9.7 12.8 25.5 13.4]\n"
     ]
    }
   ],
   "source": [
    "print(y)"
   ]
  },
  {
   "cell_type": "markdown",
   "id": "f4c58c31",
   "metadata": {},
   "source": [
    "## Splitting Data into Training and Testing Dataset"
   ]
  },
  {
   "cell_type": "code",
   "execution_count": 16,
   "id": "6c83ba9b",
   "metadata": {},
   "outputs": [],
   "source": [
    "from sklearn.model_selection import train_test_split\n",
    "x_train,x_test,y_train,y_test=train_test_split(x,y,test_size=0.2,random_state=0)"
   ]
  },
  {
   "cell_type": "code",
   "execution_count": 17,
   "id": "215fe3f4",
   "metadata": {},
   "outputs": [
    {
     "name": "stdout",
     "output_type": "stream",
     "text": [
      "x_train\n",
      "[[ 36.9]\n",
      " [ 31.5]\n",
      " [142.9]\n",
      " [209.6]\n",
      " [215.4]\n",
      " [102.7]\n",
      " [  8.6]\n",
      " [ 16.9]\n",
      " [125.7]\n",
      " [104.6]\n",
      " [109.8]\n",
      " [229.5]\n",
      " [253.8]\n",
      " [184.9]\n",
      " [ 44.7]\n",
      " [ 62.3]\n",
      " [292.9]\n",
      " [172.5]\n",
      " [202.5]\n",
      " [  7.3]\n",
      " [265.2]\n",
      " [197.6]\n",
      " [218.5]\n",
      " [147.3]\n",
      " [171.3]\n",
      " [217.7]\n",
      " [262.7]\n",
      " [163.5]\n",
      " [100.4]\n",
      " [ 76.3]\n",
      " [184.9]\n",
      " [134.3]\n",
      " [273.7]\n",
      " [296.4]\n",
      " [ 96.2]\n",
      " [109.8]\n",
      " [255.4]\n",
      " [204.1]\n",
      " [240.1]\n",
      " [193.7]\n",
      " [191.1]\n",
      " [ 89.7]\n",
      " [ 43. ]\n",
      " [ 38.2]\n",
      " [ 13.1]\n",
      " [239.3]\n",
      " [ 17.2]\n",
      " [210.7]\n",
      " [ 25.6]\n",
      " [177. ]\n",
      " [206.9]\n",
      " [ 66.1]\n",
      " [149.7]\n",
      " [129.4]\n",
      " [ 94.2]\n",
      " [276.7]\n",
      " [276.9]\n",
      " [  7.8]\n",
      " [250.9]\n",
      " [175.7]\n",
      " [ 11.7]\n",
      " [ 75.5]\n",
      " [199.8]\n",
      " [230.1]\n",
      " [107.4]\n",
      " [225.8]\n",
      " [163.3]\n",
      " [131.1]\n",
      " [206.8]\n",
      " [177. ]\n",
      " [216.8]\n",
      " [ 66.9]\n",
      " [227.2]\n",
      " [193.2]\n",
      " [ 97.5]\n",
      " [ 85.7]\n",
      " [228.3]\n",
      " [139.5]\n",
      " [ 48.3]\n",
      " [218.4]\n",
      " [195.4]\n",
      " [  5.4]\n",
      " [238.2]\n",
      " [216.4]\n",
      " [222.4]\n",
      " [ 27.5]\n",
      " [151.5]\n",
      " [139.2]\n",
      " [117.2]\n",
      " [283.6]\n",
      " [ 57.5]\n",
      " [237.4]\n",
      " [213.5]\n",
      " [ 18.8]\n",
      " [  4.1]\n",
      " [164.5]\n",
      " [ 93.9]\n",
      " [ 28.6]\n",
      " [232.1]\n",
      " [214.7]\n",
      " [ 19.4]\n",
      " [280.2]\n",
      " [290.7]\n",
      " [136.2]\n",
      " [ 69. ]\n",
      " [ 44.5]\n",
      " [141.3]\n",
      " [188.4]\n",
      " [293.6]\n",
      " [137.9]\n",
      " [  8.4]\n",
      " [168.4]\n",
      " [281.4]\n",
      " [ 43.1]\n",
      " [219.8]\n",
      " [182.6]\n",
      " [149.8]\n",
      " [220.3]\n",
      " [ 95.7]\n",
      " [248.8]\n",
      " [ 78.2]\n",
      " [121. ]\n",
      " [112.9]\n",
      " [ 17.9]\n",
      " [ 80.2]\n",
      " [248.4]\n",
      " [ 97.2]\n",
      " [220.5]\n",
      " [284.3]\n",
      " [243.2]\n",
      " [ 70.6]\n",
      " [135.2]\n",
      " [ 75.3]\n",
      " [116. ]\n",
      " [ 75.1]\n",
      " [ 38. ]\n",
      " [166.8]\n",
      " [ 26.8]\n",
      " [120.5]\n",
      " [262.9]\n",
      " [234.5]\n",
      " [239.8]\n",
      " [286. ]\n",
      " [222.4]\n",
      " [ 39.5]\n",
      " [228. ]\n",
      " [210.8]\n",
      " [ 73.4]\n",
      " [ 88.3]\n",
      " [199.1]\n",
      " [110.7]\n",
      " [266.9]\n",
      " [237.4]\n",
      " [199.8]\n",
      " [187.9]\n",
      " [139.3]\n",
      " [ 17.2]\n",
      " [ 76.4]\n",
      " [239.9]\n",
      " [ 19.6]]\n",
      "x_test\n",
      "[[ 69.2]\n",
      " [ 50. ]\n",
      " [ 90.4]\n",
      " [289.7]\n",
      " [170.2]\n",
      " [ 56.2]\n",
      " [  8.7]\n",
      " [240.1]\n",
      " [ 23.8]\n",
      " [197.6]\n",
      " [261.3]\n",
      " [ 87.2]\n",
      " [156.6]\n",
      " [187.8]\n",
      " [ 76.4]\n",
      " [120.2]\n",
      " [265.6]\n",
      " [  0.7]\n",
      " [ 74.7]\n",
      " [213.4]\n",
      " [287.6]\n",
      " [140.3]\n",
      " [175.1]\n",
      " [131.7]\n",
      " [ 53.5]\n",
      " [123.1]\n",
      " [165.6]\n",
      " [205. ]\n",
      " [224. ]\n",
      " [ 25.1]\n",
      " [ 67.8]\n",
      " [198.9]\n",
      " [280.7]\n",
      " [241.7]\n",
      " [ 13.2]\n",
      " [ 18.7]\n",
      " [ 59.6]\n",
      " [180.8]\n",
      " [ 68.4]\n",
      " [ 25. ]]\n"
     ]
    }
   ],
   "source": [
    "print(\"x_train\")\n",
    "print(x_train)\n",
    "print(\"x_test\")\n",
    "print(x_test)"
   ]
  },
  {
   "cell_type": "code",
   "execution_count": 18,
   "id": "bbdf6c2e",
   "metadata": {},
   "outputs": [
    {
     "name": "stdout",
     "output_type": "stream",
     "text": [
      "(160, 1)\n",
      "(40, 1)\n",
      "(160,)\n",
      "(40,)\n"
     ]
    }
   ],
   "source": [
    "print(x_train.shape)\n",
    "print(x_test.shape)\n",
    "print(y_train.shape)\n",
    "print(y_test.shape)"
   ]
  },
  {
   "cell_type": "code",
   "execution_count": 19,
   "id": "6561aa36",
   "metadata": {},
   "outputs": [
    {
     "name": "stdout",
     "output_type": "stream",
     "text": [
      "X: [[230.1]\n",
      " [ 44.5]\n",
      " [ 17.2]\n",
      " [151.5]\n",
      " [180.8]\n",
      " [  8.7]\n",
      " [ 57.5]\n",
      " [120.2]\n",
      " [  8.6]\n",
      " [199.8]\n",
      " [ 66.1]\n",
      " [214.7]\n",
      " [ 23.8]\n",
      " [ 97.5]\n",
      " [204.1]\n",
      " [195.4]\n",
      " [ 67.8]\n",
      " [281.4]\n",
      " [ 69.2]\n",
      " [147.3]\n",
      " [218.4]\n",
      " [237.4]\n",
      " [ 13.2]\n",
      " [228.3]\n",
      " [ 62.3]\n",
      " [262.9]\n",
      " [142.9]\n",
      " [240.1]\n",
      " [248.8]\n",
      " [ 70.6]\n",
      " [292.9]\n",
      " [112.9]\n",
      " [ 97.2]\n",
      " [265.6]\n",
      " [ 95.7]\n",
      " [290.7]\n",
      " [266.9]\n",
      " [ 74.7]\n",
      " [ 43.1]\n",
      " [228. ]\n",
      " [202.5]\n",
      " [177. ]\n",
      " [293.6]\n",
      " [206.9]\n",
      " [ 25.1]\n",
      " [175.1]\n",
      " [ 89.7]\n",
      " [239.9]\n",
      " [227.2]\n",
      " [ 66.9]\n",
      " [199.8]\n",
      " [100.4]\n",
      " [216.4]\n",
      " [182.6]\n",
      " [262.7]\n",
      " [198.9]\n",
      " [  7.3]\n",
      " [136.2]\n",
      " [210.8]\n",
      " [210.7]\n",
      " [ 53.5]\n",
      " [261.3]\n",
      " [239.3]\n",
      " [102.7]\n",
      " [131.1]\n",
      " [ 69. ]\n",
      " [ 31.5]\n",
      " [139.3]\n",
      " [237.4]\n",
      " [216.8]\n",
      " [199.1]\n",
      " [109.8]\n",
      " [ 26.8]\n",
      " [129.4]\n",
      " [213.4]\n",
      " [ 16.9]\n",
      " [ 27.5]\n",
      " [120.5]\n",
      " [  5.4]\n",
      " [116. ]\n",
      " [ 76.4]\n",
      " [239.8]\n",
      " [ 75.3]\n",
      " [ 68.4]\n",
      " [213.5]\n",
      " [193.2]\n",
      " [ 76.3]\n",
      " [110.7]\n",
      " [ 88.3]\n",
      " [109.8]\n",
      " [134.3]\n",
      " [ 28.6]\n",
      " [217.7]\n",
      " [250.9]\n",
      " [107.4]\n",
      " [163.3]\n",
      " [197.6]\n",
      " [184.9]\n",
      " [289.7]\n",
      " [135.2]\n",
      " [222.4]\n",
      " [296.4]\n",
      " [280.2]\n",
      " [187.9]\n",
      " [238.2]\n",
      " [137.9]\n",
      " [ 25. ]\n",
      " [ 90.4]\n",
      " [ 13.1]\n",
      " [255.4]\n",
      " [225.8]\n",
      " [241.7]\n",
      " [175.7]\n",
      " [209.6]\n",
      " [ 78.2]\n",
      " [ 75.1]\n",
      " [139.2]\n",
      " [ 76.4]\n",
      " [125.7]\n",
      " [ 19.4]\n",
      " [141.3]\n",
      " [ 18.8]\n",
      " [224. ]\n",
      " [123.1]\n",
      " [229.5]\n",
      " [ 87.2]\n",
      " [  7.8]\n",
      " [ 80.2]\n",
      " [220.3]\n",
      " [ 59.6]\n",
      " [  0.7]\n",
      " [265.2]\n",
      " [  8.4]\n",
      " [219.8]\n",
      " [ 36.9]\n",
      " [ 48.3]\n",
      " [ 25.6]\n",
      " [273.7]\n",
      " [ 43. ]\n",
      " [184.9]\n",
      " [ 73.4]\n",
      " [193.7]\n",
      " [220.5]\n",
      " [104.6]\n",
      " [ 96.2]\n",
      " [140.3]\n",
      " [240.1]\n",
      " [243.2]\n",
      " [ 38. ]\n",
      " [ 44.7]\n",
      " [280.7]\n",
      " [121. ]\n",
      " [197.6]\n",
      " [171.3]\n",
      " [187.8]\n",
      " [  4.1]\n",
      " [ 93.9]\n",
      " [149.8]\n",
      " [ 11.7]\n",
      " [131.7]\n",
      " [172.5]\n",
      " [ 85.7]\n",
      " [188.4]\n",
      " [163.5]\n",
      " [117.2]\n",
      " [234.5]\n",
      " [ 17.9]\n",
      " [206.8]\n",
      " [215.4]\n",
      " [284.3]\n",
      " [ 50. ]\n",
      " [164.5]\n",
      " [ 19.6]\n",
      " [168.4]\n",
      " [222.4]\n",
      " [276.9]\n",
      " [248.4]\n",
      " [170.2]\n",
      " [276.7]\n",
      " [165.6]\n",
      " [156.6]\n",
      " [218.5]\n",
      " [ 56.2]\n",
      " [287.6]\n",
      " [253.8]\n",
      " [205. ]\n",
      " [139.5]\n",
      " [191.1]\n",
      " [286. ]\n",
      " [ 18.7]\n",
      " [ 39.5]\n",
      " [ 75.5]\n",
      " [ 17.2]\n",
      " [166.8]\n",
      " [149.7]\n",
      " [ 38.2]\n",
      " [ 94.2]\n",
      " [177. ]\n",
      " [283.6]\n",
      " [232.1]]\n",
      "x_train: [[ 36.9]\n",
      " [ 31.5]\n",
      " [142.9]\n",
      " [209.6]\n",
      " [215.4]\n",
      " [102.7]\n",
      " [  8.6]\n",
      " [ 16.9]\n",
      " [125.7]\n",
      " [104.6]\n",
      " [109.8]\n",
      " [229.5]\n",
      " [253.8]\n",
      " [184.9]\n",
      " [ 44.7]\n",
      " [ 62.3]\n",
      " [292.9]\n",
      " [172.5]\n",
      " [202.5]\n",
      " [  7.3]\n",
      " [265.2]\n",
      " [197.6]\n",
      " [218.5]\n",
      " [147.3]\n",
      " [171.3]\n",
      " [217.7]\n",
      " [262.7]\n",
      " [163.5]\n",
      " [100.4]\n",
      " [ 76.3]\n",
      " [184.9]\n",
      " [134.3]\n",
      " [273.7]\n",
      " [296.4]\n",
      " [ 96.2]\n",
      " [109.8]\n",
      " [255.4]\n",
      " [204.1]\n",
      " [240.1]\n",
      " [193.7]\n",
      " [191.1]\n",
      " [ 89.7]\n",
      " [ 43. ]\n",
      " [ 38.2]\n",
      " [ 13.1]\n",
      " [239.3]\n",
      " [ 17.2]\n",
      " [210.7]\n",
      " [ 25.6]\n",
      " [177. ]\n",
      " [206.9]\n",
      " [ 66.1]\n",
      " [149.7]\n",
      " [129.4]\n",
      " [ 94.2]\n",
      " [276.7]\n",
      " [276.9]\n",
      " [  7.8]\n",
      " [250.9]\n",
      " [175.7]\n",
      " [ 11.7]\n",
      " [ 75.5]\n",
      " [199.8]\n",
      " [230.1]\n",
      " [107.4]\n",
      " [225.8]\n",
      " [163.3]\n",
      " [131.1]\n",
      " [206.8]\n",
      " [177. ]\n",
      " [216.8]\n",
      " [ 66.9]\n",
      " [227.2]\n",
      " [193.2]\n",
      " [ 97.5]\n",
      " [ 85.7]\n",
      " [228.3]\n",
      " [139.5]\n",
      " [ 48.3]\n",
      " [218.4]\n",
      " [195.4]\n",
      " [  5.4]\n",
      " [238.2]\n",
      " [216.4]\n",
      " [222.4]\n",
      " [ 27.5]\n",
      " [151.5]\n",
      " [139.2]\n",
      " [117.2]\n",
      " [283.6]\n",
      " [ 57.5]\n",
      " [237.4]\n",
      " [213.5]\n",
      " [ 18.8]\n",
      " [  4.1]\n",
      " [164.5]\n",
      " [ 93.9]\n",
      " [ 28.6]\n",
      " [232.1]\n",
      " [214.7]\n",
      " [ 19.4]\n",
      " [280.2]\n",
      " [290.7]\n",
      " [136.2]\n",
      " [ 69. ]\n",
      " [ 44.5]\n",
      " [141.3]\n",
      " [188.4]\n",
      " [293.6]\n",
      " [137.9]\n",
      " [  8.4]\n",
      " [168.4]\n",
      " [281.4]\n",
      " [ 43.1]\n",
      " [219.8]\n",
      " [182.6]\n",
      " [149.8]\n",
      " [220.3]\n",
      " [ 95.7]\n",
      " [248.8]\n",
      " [ 78.2]\n",
      " [121. ]\n",
      " [112.9]\n",
      " [ 17.9]\n",
      " [ 80.2]\n",
      " [248.4]\n",
      " [ 97.2]\n",
      " [220.5]\n",
      " [284.3]\n",
      " [243.2]\n",
      " [ 70.6]\n",
      " [135.2]\n",
      " [ 75.3]\n",
      " [116. ]\n",
      " [ 75.1]\n",
      " [ 38. ]\n",
      " [166.8]\n",
      " [ 26.8]\n",
      " [120.5]\n",
      " [262.9]\n",
      " [234.5]\n",
      " [239.8]\n",
      " [286. ]\n",
      " [222.4]\n",
      " [ 39.5]\n",
      " [228. ]\n",
      " [210.8]\n",
      " [ 73.4]\n",
      " [ 88.3]\n",
      " [199.1]\n",
      " [110.7]\n",
      " [266.9]\n",
      " [237.4]\n",
      " [199.8]\n",
      " [187.9]\n",
      " [139.3]\n",
      " [ 17.2]\n",
      " [ 76.4]\n",
      " [239.9]\n",
      " [ 19.6]]\n",
      "x_test [[ 69.2]\n",
      " [ 50. ]\n",
      " [ 90.4]\n",
      " [289.7]\n",
      " [170.2]\n",
      " [ 56.2]\n",
      " [  8.7]\n",
      " [240.1]\n",
      " [ 23.8]\n",
      " [197.6]\n",
      " [261.3]\n",
      " [ 87.2]\n",
      " [156.6]\n",
      " [187.8]\n",
      " [ 76.4]\n",
      " [120.2]\n",
      " [265.6]\n",
      " [  0.7]\n",
      " [ 74.7]\n",
      " [213.4]\n",
      " [287.6]\n",
      " [140.3]\n",
      " [175.1]\n",
      " [131.7]\n",
      " [ 53.5]\n",
      " [123.1]\n",
      " [165.6]\n",
      " [205. ]\n",
      " [224. ]\n",
      " [ 25.1]\n",
      " [ 67.8]\n",
      " [198.9]\n",
      " [280.7]\n",
      " [241.7]\n",
      " [ 13.2]\n",
      " [ 18.7]\n",
      " [ 59.6]\n",
      " [180.8]\n",
      " [ 68.4]\n",
      " [ 25. ]]\n"
     ]
    }
   ],
   "source": [
    "print(\"X:\",x)\n",
    "\n",
    "print(\"x_train:\",x_train)\n",
    "print(\"x_test\",x_test)"
   ]
  },
  {
   "cell_type": "code",
   "execution_count": 20,
   "id": "977b4553",
   "metadata": {},
   "outputs": [
    {
     "name": "stdout",
     "output_type": "stream",
     "text": [
      "Y: [22.1 10.4  9.3 18.5 12.9  7.2 11.8 13.2  4.8 10.6  8.6 17.4  9.2  9.7\n",
      " 19.  22.4 12.5 24.4 11.3 14.6 18.  12.5  5.6 15.5  9.7 12.  15.  15.9\n",
      " 18.9 10.5 21.4 11.9  9.6 17.4  9.5 12.8 25.4 14.7 10.1 21.5 16.6 17.1\n",
      " 20.7 12.9  8.5 14.9 10.6 23.2 14.8  9.7 11.4 10.7 22.6 21.2 20.2 23.7\n",
      "  5.5 13.2 23.8 18.4  8.1 24.2 15.7 14.  18.   9.3  9.5 13.4 18.9 22.3\n",
      " 18.3 12.4  8.8 11.  17.   8.7  6.9 14.2  5.3 11.  11.8 12.3 11.3 13.6\n",
      " 21.7 15.2 12.  16.  12.9 16.7 11.2  7.3 19.4 22.2 11.5 16.9 11.7 15.5\n",
      " 25.4 17.2 11.7 23.8 14.8 14.7 20.7 19.2  7.2  8.7  5.3 19.8 13.4 21.8\n",
      " 14.1 15.9 14.6 12.6 12.2  9.4 15.9  6.6 15.5  7.  11.6 15.2 19.7 10.6\n",
      "  6.6  8.8 24.7  9.7  1.6 12.7  5.7 19.6 10.8 11.6  9.5 20.8  9.6 20.7\n",
      " 10.9 19.2 20.1 10.4 11.4 10.3 13.2 25.4 10.9 10.1 16.1 11.6 16.6 19.\n",
      " 15.6  3.2 15.3 10.1  7.3 12.9 14.4 13.3 14.9 18.  11.9 11.9  8.  12.2\n",
      " 17.1 15.   8.4 14.5  7.6 11.7 11.5 27.  20.2 11.7 11.8 12.6 10.5 12.2\n",
      "  8.7 26.2 17.6 22.6 10.3 17.3 15.9  6.7 10.8  9.9  5.9 19.6 17.3  7.6\n",
      "  9.7 12.8 25.5 13.4]\n",
      "y_train: [10.8  9.5 15.  15.9 17.1 14.   4.8  8.7 15.9 10.4 12.4 19.7 17.6 15.5\n",
      " 10.1  9.7 21.4 14.4 16.6  5.5 12.7 11.7 12.2 14.6 19.  19.4 20.2 18.\n",
      " 10.7 12.  20.7 11.2 20.8 23.8 11.4 16.7 19.8 19.  15.9 19.2 17.3 10.6\n",
      "  9.6  7.6  5.3 15.7  9.3 18.4  9.5 12.8 12.9  8.6 17.3 11.   9.7 11.8\n",
      " 27.   6.6 22.2 14.1  7.3  9.9 11.4 22.1 11.5 13.4 16.9 18.  12.2 17.1\n",
      " 22.3  9.7 14.8 15.2  9.7 13.3 15.5 10.3 11.6 18.  22.4  5.3 20.7 22.6\n",
      " 11.7  6.9 18.5 12.2 11.9 25.5 11.8 18.9 21.7  7.   3.2 14.5 15.3  7.3\n",
      " 13.4 17.4  6.6 14.8 12.8 13.2  9.3 10.4 15.5 14.9 20.7 19.2  5.7 11.7\n",
      " 24.4 10.1 19.6 21.2 10.1 24.7  9.5 18.9 14.6 11.6 11.9  8.   8.8 20.2\n",
      "  9.6 20.1 15.  25.4 10.5 17.2 11.3 11.  12.6 10.9 19.6  8.8 14.2 12.\n",
      " 11.9 12.3 15.9 11.5 10.8 21.5 23.8 10.9 12.9 18.3 16.  25.4 12.5 10.6\n",
      " 14.7 13.4  5.9  9.4 23.2  7.6]\n",
      "y_test [11.3  8.4  8.7 25.4 11.7  8.7  7.2 13.2  9.2 16.6 24.2 10.6 10.5 15.6\n",
      " 11.8 13.2 17.4  1.6 14.7 17.  26.2 10.3 14.9 12.9  8.1 15.2 12.6 22.6\n",
      " 11.6  8.5 12.5 23.7 16.1 21.8  5.6  6.7  9.7 12.9 13.6  7.2]\n"
     ]
    }
   ],
   "source": [
    "print(\"Y:\",y)\n",
    "\n",
    "print(\"y_train:\",y_train)\n",
    "print(\"y_test\",y_test)"
   ]
  },
  {
   "cell_type": "markdown",
   "id": "707a95ae",
   "metadata": {},
   "source": [
    "## Creating Linear Regression Model"
   ]
  },
  {
   "cell_type": "markdown",
   "id": "25c0a521",
   "metadata": {},
   "source": [
    "##  y=aX+b "
   ]
  },
  {
   "cell_type": "markdown",
   "id": "e6548287",
   "metadata": {},
   "source": [
    "Where X=Predictor/Independant variable, Y=Response/Dependant Variable, a= Coefficient and b=Intercept\n",
    "\n",
    "In this example, X is TV and Y is Sales"
   ]
  },
  {
   "cell_type": "code",
   "execution_count": 21,
   "id": "9fb02fa9",
   "metadata": {},
   "outputs": [
    {
     "data": {
      "text/html": [
       "<style>#sk-container-id-1 {color: black;}#sk-container-id-1 pre{padding: 0;}#sk-container-id-1 div.sk-toggleable {background-color: white;}#sk-container-id-1 label.sk-toggleable__label {cursor: pointer;display: block;width: 100%;margin-bottom: 0;padding: 0.3em;box-sizing: border-box;text-align: center;}#sk-container-id-1 label.sk-toggleable__label-arrow:before {content: \"▸\";float: left;margin-right: 0.25em;color: #696969;}#sk-container-id-1 label.sk-toggleable__label-arrow:hover:before {color: black;}#sk-container-id-1 div.sk-estimator:hover label.sk-toggleable__label-arrow:before {color: black;}#sk-container-id-1 div.sk-toggleable__content {max-height: 0;max-width: 0;overflow: hidden;text-align: left;background-color: #f0f8ff;}#sk-container-id-1 div.sk-toggleable__content pre {margin: 0.2em;color: black;border-radius: 0.25em;background-color: #f0f8ff;}#sk-container-id-1 input.sk-toggleable__control:checked~div.sk-toggleable__content {max-height: 200px;max-width: 100%;overflow: auto;}#sk-container-id-1 input.sk-toggleable__control:checked~label.sk-toggleable__label-arrow:before {content: \"▾\";}#sk-container-id-1 div.sk-estimator input.sk-toggleable__control:checked~label.sk-toggleable__label {background-color: #d4ebff;}#sk-container-id-1 div.sk-label input.sk-toggleable__control:checked~label.sk-toggleable__label {background-color: #d4ebff;}#sk-container-id-1 input.sk-hidden--visually {border: 0;clip: rect(1px 1px 1px 1px);clip: rect(1px, 1px, 1px, 1px);height: 1px;margin: -1px;overflow: hidden;padding: 0;position: absolute;width: 1px;}#sk-container-id-1 div.sk-estimator {font-family: monospace;background-color: #f0f8ff;border: 1px dotted black;border-radius: 0.25em;box-sizing: border-box;margin-bottom: 0.5em;}#sk-container-id-1 div.sk-estimator:hover {background-color: #d4ebff;}#sk-container-id-1 div.sk-parallel-item::after {content: \"\";width: 100%;border-bottom: 1px solid gray;flex-grow: 1;}#sk-container-id-1 div.sk-label:hover label.sk-toggleable__label {background-color: #d4ebff;}#sk-container-id-1 div.sk-serial::before {content: \"\";position: absolute;border-left: 1px solid gray;box-sizing: border-box;top: 0;bottom: 0;left: 50%;z-index: 0;}#sk-container-id-1 div.sk-serial {display: flex;flex-direction: column;align-items: center;background-color: white;padding-right: 0.2em;padding-left: 0.2em;position: relative;}#sk-container-id-1 div.sk-item {position: relative;z-index: 1;}#sk-container-id-1 div.sk-parallel {display: flex;align-items: stretch;justify-content: center;background-color: white;position: relative;}#sk-container-id-1 div.sk-item::before, #sk-container-id-1 div.sk-parallel-item::before {content: \"\";position: absolute;border-left: 1px solid gray;box-sizing: border-box;top: 0;bottom: 0;left: 50%;z-index: -1;}#sk-container-id-1 div.sk-parallel-item {display: flex;flex-direction: column;z-index: 1;position: relative;background-color: white;}#sk-container-id-1 div.sk-parallel-item:first-child::after {align-self: flex-end;width: 50%;}#sk-container-id-1 div.sk-parallel-item:last-child::after {align-self: flex-start;width: 50%;}#sk-container-id-1 div.sk-parallel-item:only-child::after {width: 0;}#sk-container-id-1 div.sk-dashed-wrapped {border: 1px dashed gray;margin: 0 0.4em 0.5em 0.4em;box-sizing: border-box;padding-bottom: 0.4em;background-color: white;}#sk-container-id-1 div.sk-label label {font-family: monospace;font-weight: bold;display: inline-block;line-height: 1.2em;}#sk-container-id-1 div.sk-label-container {text-align: center;}#sk-container-id-1 div.sk-container {/* jupyter's `normalize.less` sets `[hidden] { display: none; }` but bootstrap.min.css set `[hidden] { display: none !important; }` so we also need the `!important` here to be able to override the default hidden behavior on the sphinx rendered scikit-learn.org. See: https://github.com/scikit-learn/scikit-learn/issues/21755 */display: inline-block !important;position: relative;}#sk-container-id-1 div.sk-text-repr-fallback {display: none;}</style><div id=\"sk-container-id-1\" class=\"sk-top-container\"><div class=\"sk-text-repr-fallback\"><pre>LinearRegression()</pre><b>In a Jupyter environment, please rerun this cell to show the HTML representation or trust the notebook. <br />On GitHub, the HTML representation is unable to render, please try loading this page with nbviewer.org.</b></div><div class=\"sk-container\" hidden><div class=\"sk-item\"><div class=\"sk-estimator sk-toggleable\"><input class=\"sk-toggleable__control sk-hidden--visually\" id=\"sk-estimator-id-1\" type=\"checkbox\" checked><label for=\"sk-estimator-id-1\" class=\"sk-toggleable__label sk-toggleable__label-arrow\">LinearRegression</label><div class=\"sk-toggleable__content\"><pre>LinearRegression()</pre></div></div></div></div></div>"
      ],
      "text/plain": [
       "LinearRegression()"
      ]
     },
     "execution_count": 21,
     "metadata": {},
     "output_type": "execute_result"
    }
   ],
   "source": [
    "from sklearn.linear_model import LinearRegression\n",
    "regressor=LinearRegression()\n",
    "regressor.fit(x_train,y_train) # Training the algorithm"
   ]
  },
  {
   "cell_type": "markdown",
   "id": "20bdfd95",
   "metadata": {},
   "source": [
    "## Interpreting Model Coefficients"
   ]
  },
  {
   "cell_type": "code",
   "execution_count": 22,
   "id": "a4cd8e56",
   "metadata": {},
   "outputs": [
    {
     "name": "stdout",
     "output_type": "stream",
     "text": [
      "7.2924937735593645\n"
     ]
    }
   ],
   "source": [
    "print(regressor.intercept_)"
   ]
  },
  {
   "cell_type": "code",
   "execution_count": 23,
   "id": "4819f3eb",
   "metadata": {},
   "outputs": [
    {
     "name": "stdout",
     "output_type": "stream",
     "text": [
      "[0.04600779]\n"
     ]
    }
   ],
   "source": [
    "print(regressor.coef_)"
   ]
  },
  {
   "cell_type": "markdown",
   "id": "dc6f980d",
   "metadata": {},
   "source": [
    "##### Y=ax+b\n",
    "##### Sales=0.04600779(TV)+7.2924937735593645"
   ]
  },
  {
   "cell_type": "markdown",
   "id": "89ed3b6b",
   "metadata": {},
   "source": [
    "## Making Predictions with Our Model"
   ]
  },
  {
   "cell_type": "code",
   "execution_count": 24,
   "id": "f5aff8da",
   "metadata": {},
   "outputs": [],
   "source": [
    "y_pred=regressor.predict(x_test)"
   ]
  },
  {
   "cell_type": "code",
   "execution_count": 25,
   "id": "ca6ccc42",
   "metadata": {},
   "outputs": [
    {
     "name": "stdout",
     "output_type": "stream",
     "text": [
      "[10.47623281  9.59288325 11.45159795 20.62095042 15.12301956  9.87813155\n",
      "  7.69276154 18.33896406  8.38747917 16.383633   19.3143292  11.30437303\n",
      " 14.49731363 15.93275666 10.8074889  12.82263008 19.51216269  7.32469923\n",
      " 10.72927566 17.11055607 20.52433406 13.74738665 15.34845773 13.35171966\n",
      "  9.75391052 12.95605267 14.91138373 16.72409064 17.59823864  8.44728929\n",
      " 10.41182191 16.44344313 20.20688032 18.41257652  7.8997966   8.15283944\n",
      " 10.03455803 15.61070213 10.43942658  8.44268851]\n"
     ]
    }
   ],
   "source": [
    "print(y_pred)"
   ]
  },
  {
   "cell_type": "code",
   "execution_count": 26,
   "id": "e008a634",
   "metadata": {},
   "outputs": [
    {
     "name": "stdout",
     "output_type": "stream",
     "text": [
      "    Actual  Predicted\n",
      "0     11.3  10.476233\n",
      "1      8.4   9.592883\n",
      "2      8.7  11.451598\n",
      "3     25.4  20.620950\n",
      "4     11.7  15.123020\n",
      "5      8.7   9.878132\n",
      "6      7.2   7.692762\n",
      "7     13.2  18.338964\n",
      "8      9.2   8.387479\n",
      "9     16.6  16.383633\n",
      "10    24.2  19.314329\n",
      "11    10.6  11.304373\n",
      "12    10.5  14.497314\n",
      "13    15.6  15.932757\n",
      "14    11.8  10.807489\n",
      "15    13.2  12.822630\n",
      "16    17.4  19.512163\n",
      "17     1.6   7.324699\n",
      "18    14.7  10.729276\n",
      "19    17.0  17.110556\n",
      "20    26.2  20.524334\n",
      "21    10.3  13.747387\n",
      "22    14.9  15.348458\n",
      "23    12.9  13.351720\n",
      "24     8.1   9.753911\n",
      "25    15.2  12.956053\n",
      "26    12.6  14.911384\n",
      "27    22.6  16.724091\n",
      "28    11.6  17.598239\n",
      "29     8.5   8.447289\n",
      "30    12.5  10.411822\n",
      "31    23.7  16.443443\n",
      "32    16.1  20.206880\n",
      "33    21.8  18.412577\n",
      "34     5.6   7.899797\n",
      "35     6.7   8.152839\n",
      "36     9.7  10.034558\n",
      "37    12.9  15.610702\n",
      "38    13.6  10.439427\n",
      "39     7.2   8.442689\n"
     ]
    }
   ],
   "source": [
    "df=pd.DataFrame({'Actual':y_test,'Predicted':y_pred})\n",
    "print(df)"
   ]
  },
  {
   "cell_type": "markdown",
   "id": "c7613f53",
   "metadata": {},
   "source": [
    "## Ploting Linear Regression Model best line¶"
   ]
  },
  {
   "cell_type": "code",
   "execution_count": 27,
   "id": "f6e3f090",
   "metadata": {},
   "outputs": [
    {
     "data": {
      "image/png": "[encoded data removed]",
      "text/plain": [
       "<Figure size 640x480 with 1 Axes>"
      ]
     },
     "metadata": {},
     "output_type": "display_data"
    }
   ],
   "source": [
    "from matplotlib import pyplot as plt\n",
    "plt.scatter(d1['TV'],d1[\"Sales\"])\n",
    "plt.title('TV vs Sales')\n",
    "plt.xlabel(\"TV\")\n",
    "plt.ylabel('Sales')\n",
    "plt.show()"
   ]
  },
  {
   "cell_type": "code",
   "execution_count": 28,
   "id": "3b0f56ee",
   "metadata": {},
   "outputs": [
    {
     "data": {
      "image/png": "[encoded data removed]",
      "text/plain": [
       "<Figure size 640x480 with 1 Axes>"
      ]
     },
     "metadata": {},
     "output_type": "display_data"
    }
   ],
   "source": [
    "from matplotlib import pyplot as plt\n",
    "plt.plot(x_train,regressor.predict(x_train), color='red')\n",
    "plt.scatter(d1['TV'],d1[\"Sales\"])\n",
    "plt.title('TV vs Sales')\n",
    "plt.xlabel(\"TV\")\n",
    "plt.ylabel('Sales')\n",
    "plt.show()"
   ]
  },
  {
   "cell_type": "markdown",
   "id": "d81c3fb4",
   "metadata": {},
   "source": [
    "## Model Evaluation Metrics"
   ]
  },
  {
   "cell_type": "code",
   "execution_count": 29,
   "id": "9e76c198",
   "metadata": {},
   "outputs": [
    {
     "name": "stdout",
     "output_type": "stream",
     "text": [
      "Mean Absolute Error 2.5054181789660026\n"
     ]
    }
   ],
   "source": [
    "from sklearn import metrics\n",
    "import numpy as np\n",
    "print('Mean Absolute Error',metrics.mean_absolute_error(y_test,y_pred))"
   ]
  },
  {
   "cell_type": "code",
   "execution_count": 30,
   "id": "6b338b30",
   "metadata": {},
   "outputs": [
    {
     "name": "stdout",
     "output_type": "stream",
     "text": [
      "Mean Squared Error 10.18618193453022\n"
     ]
    }
   ],
   "source": [
    "print('Mean Squared Error',metrics.mean_squared_error(y_test,y_pred))"
   ]
  },
  {
   "cell_type": "code",
   "execution_count": 31,
   "id": "79fb5e41",
   "metadata": {},
   "outputs": [
    {
     "name": "stdout",
     "output_type": "stream",
     "text": [
      "Root Mean Squared Error 3.191579849311344\n"
     ]
    }
   ],
   "source": [
    "# bNo direct function for RMSE \n",
    "print('Root Mean Squared Error',np.sqrt(metrics.mean_squared_error(y_test,y_pred)))"
   ]
  },
  {
   "cell_type": "code",
   "execution_count": 32,
   "id": "ca1da41a",
   "metadata": {},
   "outputs": [
    {
     "name": "stdout",
     "output_type": "stream",
     "text": [
      "[[ 69.2]\n",
      " [ 50. ]\n",
      " [ 90.4]\n",
      " [289.7]\n",
      " [170.2]\n",
      " [ 56.2]\n",
      " [  8.7]\n",
      " [240.1]\n",
      " [ 23.8]\n",
      " [197.6]\n",
      " [261.3]\n",
      " [ 87.2]\n",
      " [156.6]\n",
      " [187.8]\n",
      " [ 76.4]\n",
      " [120.2]\n",
      " [265.6]\n",
      " [  0.7]\n",
      " [ 74.7]\n",
      " [213.4]\n",
      " [287.6]\n",
      " [140.3]\n",
      " [175.1]\n",
      " [131.7]\n",
      " [ 53.5]\n",
      " [123.1]\n",
      " [165.6]\n",
      " [205. ]\n",
      " [224. ]\n",
      " [ 25.1]\n",
      " [ 67.8]\n",
      " [198.9]\n",
      " [280.7]\n",
      " [241.7]\n",
      " [ 13.2]\n",
      " [ 18.7]\n",
      " [ 59.6]\n",
      " [180.8]\n",
      " [ 68.4]\n",
      " [ 25. ]]\n"
     ]
    }
   ],
   "source": [
    "print(x_test)"
   ]
  },
  {
   "cell_type": "code",
   "execution_count": 33,
   "id": "16d23373",
   "metadata": {},
   "outputs": [
    {
     "name": "stdout",
     "output_type": "stream",
     "text": [
      "The train score for lr model is:  0.5884742462828709\n",
      "The test score for lr model is:  0.6763151577939721\n"
     ]
    }
   ],
   "source": [
    "train_score_lr = regressor.score(x_train, y_train)\n",
    "test_score_lr = regressor.score(x_test, y_test)\n",
    "\n",
    "print(\"The train score for lr model is: \", train_score_lr)\n",
    "print(\"The test score for lr model is: \",test_score_lr)"
   ]
  },
  {
   "cell_type": "code",
   "execution_count": 34,
   "id": "101efdc5",
   "metadata": {},
   "outputs": [
    {
     "name": "stdout",
     "output_type": "stream",
     "text": [
      "R²: 0.6763151577939721\n"
     ]
    }
   ],
   "source": [
    "actual_minus_predicted = sum((y_test - y_pred)**2)\n",
    "actual_minus_actual_mean = sum((y_test - y_test.mean())**2)\n",
    "r2 = 1 - actual_minus_predicted/actual_minus_actual_mean\n",
    "print('R²:', r2)"
   ]
  },
  {
   "cell_type": "code",
   "execution_count": 35,
   "id": "8bbe4478",
   "metadata": {},
   "outputs": [
    {
     "name": "stdout",
     "output_type": "stream",
     "text": [
      " R2 Score 0.6763151577939721\n"
     ]
    }
   ],
   "source": [
    "from sklearn.metrics import r2_score\n",
    "# r2 score\n",
    "print(\" R2 Score\",r2_score(y_test,y_pred) )\n",
    "r2=r2_score(y_test,y_pred)"
   ]
  },
  {
   "cell_type": "markdown",
   "id": "bec38e4e",
   "metadata": {},
   "source": [
    "## Adjusted R2 Score"
   ]
  },
  {
   "cell_type": "code",
   "execution_count": 36,
   "id": "3961f173",
   "metadata": {},
   "outputs": [
    {
     "data": {
      "text/plain": [
       "(40, 1)"
      ]
     },
     "execution_count": 36,
     "metadata": {},
     "output_type": "execute_result"
    }
   ],
   "source": [
    "# Adjusted R2 Score\n",
    "x_test.shape"
   ]
  },
  {
   "cell_type": "code",
   "execution_count": 37,
   "id": "c53629a1",
   "metadata": {},
   "outputs": [
    {
     "data": {
      "text/plain": [
       "0.5953939472424652"
      ]
     },
     "execution_count": 37,
     "metadata": {},
     "output_type": "execute_result"
    }
   ],
   "source": [
    "1-((1-r2)*(6-1)/(6-1-1))"
   ]
  },
  {
   "cell_type": "code",
   "execution_count": 38,
   "id": "78b77dc2",
   "metadata": {},
   "outputs": [
    {
     "data": {
      "text/plain": [
       "Text(0, 0.5, 'Predict')"
      ]
     },
     "execution_count": 38,
     "metadata": {},
     "output_type": "execute_result"
    },
    {
     "data": {
      "image/png": "[encoded data removed]",
      "text/plain": [
       "<Figure size 640x480 with 1 Axes>"
      ]
     },
     "metadata": {},
     "output_type": "display_data"
    }
   ],
   "source": [
    "plt.scatter(y_test,y_pred)\n",
    "plt.xlabel('Test')\n",
    "plt.ylabel('Predict')"
   ]
  }
 ],
 "metadata": {
  "kernelspec": {
   "display_name": "Python 3 (ipykernel)",
   "language": "python",
   "name": "python3"
  },
  "language_info": {
   "codemirror_mode": {
    "name": "ipython",
    "version": 3
   },
   "file_extension": ".py",
   "mimetype": "text/x-python",
   "name": "python",
   "nbconvert_exporter": "python",
   "pygments_lexer": "ipython3",
   "version": "3.11.4"
  }
 },
 "nbformat": 4,
 "nbformat_minor": 5
}
